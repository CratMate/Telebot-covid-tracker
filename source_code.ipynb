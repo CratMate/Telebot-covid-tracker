import requests
import json
import time
from bs4 import BeautifulSoup
import matplotlib.pyplot as plt

url1 = "https://www.worldometers.info/coronavirus/"
url2 = "https://api.telegram.org/bot<--YOUR_API_TOKEN-->/getUpdates"
def send_telegram_message(message):
    url = "https://api.telegram.org/" + "bot<--YOUR_API_TOKEN-->" + "/sendMessage"
    data = {
        "chat_id":"@CovidTraceBot",
        "text": message
    }
    try:
        response = requests.request(
            "POST",
            url,
            params=data
        )
        telegram_data = json.loads(response.text)
        return telegram_data["ok"]
    except Exception as e:
        print("Error occurred!!! while sending message")
        print(e)
        return False
       
req1 = requests.get(url1)
bsObj = BeautifulSoup(req1.text, "html.parser")
data1 = bsObj.find_all("div",{"class":"maincounter-number"})

while(1):
    req2 = requests.get(url2)
    data2=req2.json()
    data=data2['result']
    M="hello"
    for x in data:
        M = x['channel_post']['text']
        print(M)
    list={'india','us','china','pakistan'}
    if(M in list):
        req3 = requests.get(url1+"country/"+M)
        bsObj3 = BeautifulSoup(req3.text, "html.parser")
        data3 = bsObj3.find_all("div",{"class":"maincounter-number"})
        send_telegram_message("Corona Cases : "+data3[0].text+"\nDeath reported : "+data3[1].text+"\nRecovered cases : "+data3[2].text)
        time.sleep(2)
    else:
        send_telegram_message("Corona Cases : "+data1[0].text+"\nDeath reported : "+data1[1].text+"\nRecovered cases : "+data1[2].text)
        time.sleep(2)
    
    time.sleep(10)
